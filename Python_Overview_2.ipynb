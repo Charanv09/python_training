{
 "cells": [
  {
   "cell_type": "markdown",
   "metadata": {},
   "source": [
    "### Control Flows"
   ]
  },
  {
   "cell_type": "code",
   "execution_count": null,
   "metadata": {
    "collapsed": true
   },
   "outputs": [],
   "source": [
    "# variable assignment\n",
    "a = 10"
   ]
  },
  {
   "cell_type": "code",
   "execution_count": null,
   "metadata": {
    "collapsed": false
   },
   "outputs": [],
   "source": [
    "a,b = 10,15\n",
    "a,b"
   ]
  },
  {
   "cell_type": "code",
   "execution_count": null,
   "metadata": {
    "collapsed": false
   },
   "outputs": [],
   "source": [
    "#swapping numbers\n",
    "a,b = b, a\n",
    "a,b"
   ]
  },
  {
   "cell_type": "code",
   "execution_count": null,
   "metadata": {
    "collapsed": false
   },
   "outputs": [],
   "source": [
    "my_list = []\n",
    "my_list = 12,18\n",
    "my_list"
   ]
  },
  {
   "cell_type": "code",
   "execution_count": null,
   "metadata": {
    "collapsed": false
   },
   "outputs": [],
   "source": [
    "# if conditional statement\n",
    "my_age = int(raw_input(\"Enter Your age: \"))\n",
    "\n",
    "if (my_age <= 35):\n",
    "    print(\"Young, consider investing in equities\")\n",
    "elif((my_age > 35) and (my_age <= 50)):\n",
    "    print(\"Middle age , consider moving to secure instruments\")\n",
    "elif((my_age > 50) and (my_age <= 65)):\n",
    "    print(\"You probably might be thiking of retiring now\")\n",
    "else:\n",
    "     print(\"Might have retired already!!\")"
   ]
  },
  {
   "cell_type": "code",
   "execution_count": null,
   "metadata": {
    "collapsed": false
   },
   "outputs": [],
   "source": [
    "# operatos - == < > <= >= n\n",
    "age = 30\n",
    "print(age == 30)\n",
    "print(age <= 30)\n",
    "print(age < 30)\n",
    "print(age > 30)\n",
    "print(age >= 30)\n",
    "print(age != 30)"
   ]
  },
  {
   "cell_type": "code",
   "execution_count": null,
   "metadata": {
    "collapsed": true
   },
   "outputs": [],
   "source": [
    "my_list1 = [2,3,4]\n",
    "my_list2 = [3,2,4]\n",
    "my_list3 = [1,2,3]"
   ]
  },
  {
   "cell_type": "code",
   "execution_count": null,
   "metadata": {
    "collapsed": false
   },
   "outputs": [],
   "source": [
    "my_list1 == my_list2"
   ]
  },
  {
   "cell_type": "code",
   "execution_count": null,
   "metadata": {
    "collapsed": false
   },
   "outputs": [],
   "source": [
    "my_list1 == sorted(my_list2)"
   ]
  },
  {
   "cell_type": "code",
   "execution_count": null,
   "metadata": {
    "collapsed": false
   },
   "outputs": [],
   "source": [
    "my_list3 < my_list1"
   ]
  },
  {
   "cell_type": "code",
   "execution_count": null,
   "metadata": {
    "collapsed": false
   },
   "outputs": [],
   "source": [
    "# for loop\n",
    "# iterates over the items of any sequence (list, string, tuple,dictinary,set)\n",
    "\n",
    "number_list = range(1,10)\n",
    "\n",
    "# find all of the odd numbers between 1 and 10\n",
    "\n",
    "for number in number_list:\n",
    "    if (number%2):\n",
    "        print(number)"
   ]
  },
  {
   "cell_type": "code",
   "execution_count": null,
   "metadata": {
    "collapsed": false
   },
   "outputs": [],
   "source": [
    "# for loop\n",
    "\n",
    "my_list3 = ['apple','banana','orange','grape','mango']\n",
    "\n",
    "for i,fruit in enumerate(my_list3):\n",
    "    if (fruit.upper().startswith('G')):\n",
    "        print(i,fruit)\n",
    "        break\n",
    "else:\n",
    "    print(\"There is no fruit that starts with 'g'\")"
   ]
  },
  {
   "cell_type": "markdown",
   "metadata": {},
   "source": [
    "## List Comprehensions "
   ]
  },
  {
   "cell_type": "code",
   "execution_count": null,
   "metadata": {
    "collapsed": false
   },
   "outputs": [],
   "source": [
    "a = [10,20,30,40,50,60]\n",
    "a"
   ]
  },
  {
   "cell_type": "code",
   "execution_count": null,
   "metadata": {
    "collapsed": false
   },
   "outputs": [],
   "source": [
    "new_a = []\n",
    "incriment = 5\n",
    "for number in a:\n",
    "    new_a.append(number + incriment)\n",
    "new_a"
   ]
  },
  {
   "cell_type": "code",
   "execution_count": null,
   "metadata": {
    "collapsed": false
   },
   "outputs": [],
   "source": [
    "# using list comprehensions\n",
    "new_a = [number+5 for number in a]\n",
    "new_a"
   ]
  },
  {
   "cell_type": "code",
   "execution_count": null,
   "metadata": {
    "collapsed": false
   },
   "outputs": [],
   "source": [
    "b = [number+5 for number in a if number > 20] # you can filter items also"
   ]
  },
  {
   "cell_type": "code",
   "execution_count": null,
   "metadata": {
    "collapsed": false
   },
   "outputs": [],
   "source": [
    "b"
   ]
  },
  {
   "cell_type": "code",
   "execution_count": null,
   "metadata": {
    "collapsed": false
   },
   "outputs": [],
   "source": [
    "name = None\n",
    "while(name != 'quit'):\n",
    "    name = str(raw_input(\"Please enter a string, enter quit\"))\n",
    "    print(\"you have entered %s\\n\"%name)"
   ]
  },
  {
   "cell_type": "markdown",
   "metadata": {},
   "source": [
    "## Functions\n",
    "\n",
    "* The keyword **def** introduces a function definition.\n",
    "* The **first statement** of the function body can optionally be a string literal;\n",
    "* this string literal is the function’s documentation string, or **docstring**.\n",
    "* Variable Scope - local, global and then builtin\n",
    "* Default Argument Values\n",
    "* Keyword Arguments\n",
    "* \\*args and \\**kwargs"
   ]
  },
  {
   "cell_type": "code",
   "execution_count": null,
   "metadata": {
    "collapsed": false
   },
   "outputs": [],
   "source": [
    "# it is always a good practice to provide the docstring\n",
    "def simple_function():\n",
    "    \"\"\"This is a simple functions without any arguments\"\"\"\n",
    "    print(\"This is a simple function\")"
   ]
  },
  {
   "cell_type": "code",
   "execution_count": null,
   "metadata": {
    "collapsed": false
   },
   "outputs": [],
   "source": [
    "simple_function"
   ]
  },
  {
   "cell_type": "code",
   "execution_count": null,
   "metadata": {
    "collapsed": false
   },
   "outputs": [],
   "source": [
    "simple_function()"
   ]
  },
  {
   "cell_type": "code",
   "execution_count": null,
   "metadata": {
    "collapsed": false
   },
   "outputs": [],
   "source": [
    "simple_function?"
   ]
  },
  {
   "cell_type": "code",
   "execution_count": null,
   "metadata": {
    "collapsed": true
   },
   "outputs": [],
   "source": [
    "def squares(a):\n",
    "    \"\"\"This function returns the square of a given number\n",
    "       squares(number) -> square of the number\"\"\"\n",
    "    return a*a\n",
    "    "
   ]
  },
  {
   "cell_type": "code",
   "execution_count": null,
   "metadata": {
    "collapsed": false
   },
   "outputs": [],
   "source": [
    "squares(3)"
   ]
  },
  {
   "cell_type": "code",
   "execution_count": null,
   "metadata": {
    "collapsed": false
   },
   "outputs": [],
   "source": [
    "squares()"
   ]
  },
  {
   "cell_type": "code",
   "execution_count": null,
   "metadata": {
    "collapsed": true
   },
   "outputs": [],
   "source": [
    "# Providing a default value\n",
    "# \n",
    "def squares(a=2):\n",
    "    \"\"\"This function returns the square of a given number\n",
    "       squares(number=2) -> square of the number\"\"\"\n",
    "    return a*a"
   ]
  },
  {
   "cell_type": "code",
   "execution_count": null,
   "metadata": {
    "collapsed": false
   },
   "outputs": [],
   "source": [
    "squares()"
   ]
  },
  {
   "cell_type": "code",
   "execution_count": null,
   "metadata": {
    "collapsed": false
   },
   "outputs": [],
   "source": [
    "squares(3)"
   ]
  },
  {
   "cell_type": "code",
   "execution_count": null,
   "metadata": {
    "collapsed": true
   },
   "outputs": [],
   "source": [
    "def send_email(to=\"no_email\",subject=\"No Subject\",from_add=\"Sasi@example.com\",body=\"no_content\"):\n",
    "    return \"To:\" + to + \";\\nSubject:\" + subject +\";\\nFrom:\" + from_add + \";\\nbody:\" + body + \"\\n\""
   ]
  },
  {
   "cell_type": "code",
   "execution_count": null,
   "metadata": {
    "collapsed": false
   },
   "outputs": [],
   "source": [
    "send_email(to=\"unknown@example.com\",subject=\"This is a test message\",body=\"I am in Python training\")"
   ]
  },
  {
   "cell_type": "markdown",
   "metadata": {},
   "source": [
    "### function scope"
   ]
  },
  {
   "cell_type": "code",
   "execution_count": null,
   "metadata": {
    "collapsed": false
   },
   "outputs": [],
   "source": [
    "a = 15\n",
    "def myfunc(b):\n",
    "    print 'a:',a\n",
    "    return a + b"
   ]
  },
  {
   "cell_type": "code",
   "execution_count": null,
   "metadata": {
    "collapsed": false
   },
   "outputs": [],
   "source": [
    "myfunc(3)"
   ]
  },
  {
   "cell_type": "code",
   "execution_count": null,
   "metadata": {
    "collapsed": false
   },
   "outputs": [],
   "source": [
    "myfunc(5)"
   ]
  },
  {
   "cell_type": "code",
   "execution_count": null,
   "metadata": {
    "collapsed": false
   },
   "outputs": [],
   "source": [
    "def newfunc(b):\n",
    "    a = 5\n",
    "    print 'a:', a\n",
    "    return a + b\n",
    "print 'global a:', a"
   ]
  },
  {
   "cell_type": "code",
   "execution_count": null,
   "metadata": {
    "collapsed": false
   },
   "outputs": [],
   "source": [
    "newfunc(3)"
   ]
  },
  {
   "cell_type": "code",
   "execution_count": null,
   "metadata": {
    "collapsed": false
   },
   "outputs": [],
   "source": [
    "myfunc(3)"
   ]
  },
  {
   "cell_type": "code",
   "execution_count": null,
   "metadata": {
    "collapsed": true
   },
   "outputs": [],
   "source": [
    "def globfunc(b):\n",
    "    global a\n",
    "    a = 5\n",
    "    print 'a:', a\n",
    "    return a + b"
   ]
  },
  {
   "cell_type": "code",
   "execution_count": null,
   "metadata": {
    "collapsed": false
   },
   "outputs": [],
   "source": [
    "globfunc(3)"
   ]
  },
  {
   "cell_type": "code",
   "execution_count": null,
   "metadata": {
    "collapsed": false
   },
   "outputs": [],
   "source": [
    "myfunc(5)"
   ]
  },
  {
   "cell_type": "markdown",
   "metadata": {},
   "source": [
    "### \\*args and \\**kwargs"
   ]
  },
  {
   "cell_type": "code",
   "execution_count": null,
   "metadata": {
    "collapsed": true
   },
   "outputs": [],
   "source": [
    "def test_args(*args,**kwargs):\n",
    "    for arg in args:\n",
    "        print(arg)\n",
    "    for key in kwargs:\n",
    "        print(key,kwargs[key])"
   ]
  },
  {
   "cell_type": "code",
   "execution_count": null,
   "metadata": {
    "collapsed": false
   },
   "outputs": [],
   "source": [
    "test_args(1,3,4,language='Python')"
   ]
  },
  {
   "cell_type": "code",
   "execution_count": null,
   "metadata": {
    "collapsed": false
   },
   "outputs": [],
   "source": [
    "input_list = ['a','b','c','d']\n",
    "input_kwargs = {'language':'Python'}\n",
    "test_args(*input_list,**input_kwargs)"
   ]
  },
  {
   "cell_type": "markdown",
   "metadata": {},
   "source": [
    "## Reading and writing Files"
   ]
  },
  {
   "cell_type": "code",
   "execution_count": null,
   "metadata": {
    "collapsed": false
   },
   "outputs": [],
   "source": [
    "file_handle = open('output.txt','w')\n",
    "file_handle"
   ]
  },
  {
   "cell_type": "code",
   "execution_count": null,
   "metadata": {
    "collapsed": true
   },
   "outputs": [],
   "source": [
    "file_handle.write(\"This is first line\\n\")\n",
    "file_handle.write(\"This is second line\\n\")"
   ]
  },
  {
   "cell_type": "code",
   "execution_count": null,
   "metadata": {
    "collapsed": true
   },
   "outputs": [],
   "source": [
    "file_handle.close()"
   ]
  },
  {
   "cell_type": "code",
   "execution_count": null,
   "metadata": {
    "collapsed": false
   },
   "outputs": [],
   "source": [
    "inp_file = open('output.txt','r')\n",
    "for line in inp_file:\n",
    "    print(line.strip(\"\\n\"))\n",
    "inp_file.close()"
   ]
  },
  {
   "cell_type": "code",
   "execution_count": null,
   "metadata": {
    "collapsed": false
   },
   "outputs": [],
   "source": [
    "# with takes care of opening and closing the files, there is no explict closing is required\n",
    "with open('output.txt','r') as f:\n",
    "    print(f.read())"
   ]
  },
  {
   "cell_type": "code",
   "execution_count": null,
   "metadata": {
    "collapsed": false
   },
   "outputs": [],
   "source": [
    "data = []\n",
    "with open('output.txt') as f:\n",
    "    data = f.readlines()\n",
    "print(data)"
   ]
  },
  {
   "cell_type": "markdown",
   "metadata": {},
   "source": [
    "## Exception handling"
   ]
  },
  {
   "cell_type": "code",
   "execution_count": null,
   "metadata": {
    "collapsed": false
   },
   "outputs": [],
   "source": [
    "a = 100/0.0"
   ]
  },
  {
   "cell_type": "code",
   "execution_count": null,
   "metadata": {
    "collapsed": true
   },
   "outputs": [],
   "source": [
    "import sys"
   ]
  },
  {
   "cell_type": "code",
   "execution_count": null,
   "metadata": {
    "collapsed": false
   },
   "outputs": [],
   "source": [
    "try:\n",
    "    a = 100/1.0\n",
    "    c = b/a\n",
    "except ZeroDivisionError as e:\n",
    "    print(e)\n",
    "except:\n",
    "    print(\"Unexpected Error\",sys.exc_info()[0])"
   ]
  },
  {
   "cell_type": "markdown",
   "metadata": {},
   "source": [
    "# Modules\n",
    "\n",
    "* #### A module is a file containing Python definitions and statements. The file name is the module name with the suffix .py appended.\n",
    "* #### Reuse of code\n",
    "* #### Modularity for maintenance of the code base"
   ]
  },
  {
   "cell_type": "code",
   "execution_count": null,
   "metadata": {
    "collapsed": true
   },
   "outputs": [],
   "source": [
    "# let's check what is there in utilities.py file\n",
    "# the module name is \"utilities\""
   ]
  },
  {
   "cell_type": "code",
   "execution_count": null,
   "metadata": {
    "collapsed": true
   },
   "outputs": [],
   "source": [
    "%load utilities.py"
   ]
  },
  {
   "cell_type": "code",
   "execution_count": null,
   "metadata": {
    "collapsed": true
   },
   "outputs": [],
   "source": [
    "import utilities"
   ]
  },
  {
   "cell_type": "code",
   "execution_count": null,
   "metadata": {
    "collapsed": false
   },
   "outputs": [],
   "source": [
    "dir(utilities)"
   ]
  },
  {
   "cell_type": "code",
   "execution_count": null,
   "metadata": {
    "collapsed": false
   },
   "outputs": [],
   "source": [
    "# accessing the functions in utilities module\n",
    "utilities.hello(\"yourname\")"
   ]
  },
  {
   "cell_type": "markdown",
   "metadata": {},
   "source": [
    "# Packages\n",
    "\n",
    "* #### Packages are a way of structuring Python’s module namespace"
   ]
  },
  {
   "cell_type": "markdown",
   "metadata": {},
   "source": [
    "<img src=\"fig_packages.png\" alt=\"Python Packages\" height=\"342\" width=\"342\" align=\"left\">"
   ]
  },
  {
   "cell_type": "code",
   "execution_count": null,
   "metadata": {
    "collapsed": true
   },
   "outputs": [],
   "source": [
    "# Suppose you are creating a software package for restaurant business\n",
    "# Think, How you want to oganize your code\n",
    "# What are the various functions necessary\n",
    "# booking\n",
    "# billing\n",
    "# discounts\n",
    "# menu"
   ]
  },
  {
   "cell_type": "markdown",
   "metadata": {},
   "source": [
    "# Classes\n",
    "\n",
    "* #### Python classes provide all the standard features of Object Oriented Programming\n",
    "* #### The class inheritance mechanism allows multiple base classes\n",
    "* #### A derived class can override any methods of its base class or classes"
   ]
  },
  {
   "cell_type": "code",
   "execution_count": null,
   "metadata": {
    "collapsed": true
   },
   "outputs": [],
   "source": [
    "# simple class\n",
    "class MyClass:\n",
    "    \"\"\"This is a sample class\"\"\"\n",
    "    class_variable = 1.2\n",
    "    def __init__(self,name):\n",
    "        self.name = name\n",
    "    def get_name(self):\n",
    "        return self.name\n",
    "    def set_name(self,name):\n",
    "        self.name = name"
   ]
  },
  {
   "cell_type": "code",
   "execution_count": null,
   "metadata": {
    "collapsed": false
   },
   "outputs": [],
   "source": [
    "print(MyClass.class_variable)"
   ]
  },
  {
   "cell_type": "code",
   "execution_count": null,
   "metadata": {
    "collapsed": false
   },
   "outputs": [],
   "source": [
    "myobj = MyClass('My Object')"
   ]
  },
  {
   "cell_type": "code",
   "execution_count": null,
   "metadata": {
    "collapsed": false
   },
   "outputs": [],
   "source": [
    "print(myobj.class_variable)"
   ]
  },
  {
   "cell_type": "code",
   "execution_count": null,
   "metadata": {
    "collapsed": false
   },
   "outputs": [],
   "source": [
    "myobj"
   ]
  },
  {
   "cell_type": "code",
   "execution_count": null,
   "metadata": {
    "collapsed": false
   },
   "outputs": [],
   "source": [
    "type(myobj)"
   ]
  },
  {
   "cell_type": "code",
   "execution_count": null,
   "metadata": {
    "collapsed": false
   },
   "outputs": [],
   "source": [
    "myobj.get_name()"
   ]
  },
  {
   "cell_type": "code",
   "execution_count": null,
   "metadata": {
    "collapsed": true
   },
   "outputs": [],
   "source": [
    "myobj.set_name(\"Object Name Changed\")"
   ]
  },
  {
   "cell_type": "code",
   "execution_count": null,
   "metadata": {
    "collapsed": false
   },
   "outputs": [],
   "source": [
    "myobj.get_name()"
   ]
  },
  {
   "cell_type": "code",
   "execution_count": null,
   "metadata": {
    "collapsed": false
   },
   "outputs": [],
   "source": [
    "# Class inheritance\n",
    "class MyNewClass(MyClass):\n",
    "    pass"
   ]
  },
  {
   "cell_type": "code",
   "execution_count": null,
   "metadata": {
    "collapsed": true
   },
   "outputs": [],
   "source": [
    "newobj = MyNewClass(\"New Class Object\")"
   ]
  },
  {
   "cell_type": "code",
   "execution_count": null,
   "metadata": {
    "collapsed": false
   },
   "outputs": [],
   "source": [
    "# Class inheritance\n",
    "class MyNewClass(MyClass):\n",
    "    def __init__(self,name,age):\n",
    "        MyClass.__init__(self,name)\n",
    "        self.age = age"
   ]
  },
  {
   "cell_type": "code",
   "execution_count": null,
   "metadata": {
    "collapsed": false
   },
   "outputs": [],
   "source": [
    "newobj = MyNewClass(\"Test\",30)\n",
    "newobj.age"
   ]
  },
  {
   "cell_type": "markdown",
   "metadata": {},
   "source": [
    "# Regular Expression\n",
    "\n",
    "* #### A regular expression is a special sequence of characters that helps you match or find other strings or sets of strings, using a specialized syntax held in a pattern."
   ]
  },
  {
   "cell_type": "code",
   "execution_count": null,
   "metadata": {
    "collapsed": true
   },
   "outputs": [],
   "source": [
    "import re\n",
    "pattern = re.compile('be*')"
   ]
  },
  {
   "cell_type": "code",
   "execution_count": null,
   "metadata": {
    "collapsed": false
   },
   "outputs": [],
   "source": [
    "match = pattern.search(\"This is a beautiful day\")\n",
    "print (match)"
   ]
  },
  {
   "cell_type": "code",
   "execution_count": null,
   "metadata": {
    "collapsed": true
   },
   "outputs": [],
   "source": [
    "# some regular expression patterns\n",
    "# [0-9]+ or \\d+ matches a series of digits\n",
    "# [a-z]+ or \\w+ matches a seris of alphabets\n",
    "#[^a-z0-9A-Z]+ other than alphabet and number\n",
    "# ^[a-z]{2} starting with 2 alphabets\n",
    "# [0-9]+$ ends with number"
   ]
  },
  {
   "cell_type": "code",
   "execution_count": null,
   "metadata": {
    "collapsed": true
   },
   "outputs": [],
   "source": [
    "pattern1 = re.compile(\"[\\+]*[0-9]{2}[0-9]{10}\") # \\ is escape character\n",
    "pattern2 = re.compile(\"[\\+]*[0-9]{10}[78][5]\")"
   ]
  },
  {
   "cell_type": "code",
   "execution_count": null,
   "metadata": {
    "collapsed": true
   },
   "outputs": [],
   "source": [
    "my_str = \"My telehone number is +919980373275, you can contact me at 919385293852\"\n",
    "groups1 = pattern1.findall(my_str)\n",
    "groups2 = pattern2.findall(my_str)"
   ]
  },
  {
   "cell_type": "code",
   "execution_count": null,
   "metadata": {
    "collapsed": false
   },
   "outputs": [],
   "source": [
    "print(groups1)\n",
    "print(groups2)"
   ]
  },
  {
   "cell_type": "markdown",
   "metadata": {},
   "source": [
    "# future\n",
    "\n",
    "* #### With \\__future__ , you can slowly be accustomed to incompatible changes or to such ones introducing new keywords.\n",
    "* #### In 2.5, as the <u>with</u> keyword was new and shouldn't be used as variable names any longer\n",
    "* #### *from \\__future__ import with_statement*  statement is needed In order to be able to use a program which uses variables named with"
   ]
  },
  {
   "cell_type": "code",
   "execution_count": null,
   "metadata": {
    "collapsed": false
   },
   "outputs": [],
   "source": [
    "print(8/7)\n",
    "print(8//7)"
   ]
  },
  {
   "cell_type": "code",
   "execution_count": null,
   "metadata": {
    "collapsed": false
   },
   "outputs": [],
   "source": [
    "from __future__ import division\n",
    "print(8/7)\n",
    "print(8//7)"
   ]
  },
  {
   "cell_type": "markdown",
   "metadata": {},
   "source": [
    "# Iterator\n",
    "\n",
    "* #### The built-in function iter takes an iterable object and returns an iterator\n",
    "* #### Each time we call the next method on the iterator gives us the next element\n",
    "* #### The \\__iter\\__ method is what makes an object iterable\n",
    "* #### The return value of \\__iter\\__ is an iterator. It should have a next method and raise StopIteration when there are no more elements"
   ]
  },
  {
   "cell_type": "code",
   "execution_count": null,
   "metadata": {
    "collapsed": false
   },
   "outputs": [],
   "source": [
    "my_iter = iter([1,2,3]) # returns iterator object and this has next method\n",
    "my_iter"
   ]
  },
  {
   "cell_type": "code",
   "execution_count": null,
   "metadata": {
    "collapsed": false
   },
   "outputs": [],
   "source": [
    "print my_iter.next() # returns 1\n",
    "print my_iter.next() # returns 2\n",
    "print my_iter.next() # returns 3\n",
    "print my_iter.next() # raises StopIteration Exception"
   ]
  },
  {
   "cell_type": "markdown",
   "metadata": {},
   "source": [
    "# Generator\n",
    "\n",
    "* #### Generators simplifies creation of iterators\n",
    "* #### A generator is a function that produces a sequence of results instead of a single value\n",
    "* #### yield is a keyword. Each time the yield statement is executed the function generates a new value"
   ]
  },
  {
   "cell_type": "code",
   "execution_count": null,
   "metadata": {
    "collapsed": true
   },
   "outputs": [],
   "source": [
    "def my_range(n):\n",
    "    i = 0\n",
    "    while i < n:\n",
    "        yield i\n",
    "        i += 1"
   ]
  },
  {
   "cell_type": "code",
   "execution_count": null,
   "metadata": {
    "collapsed": false
   },
   "outputs": [],
   "source": [
    "a = my_range(5)\n",
    "print a.next()\n",
    "print a.next()"
   ]
  },
  {
   "cell_type": "code",
   "execution_count": null,
   "metadata": {
    "collapsed": false
   },
   "outputs": [],
   "source": [
    "for i in a:\n",
    "    print i"
   ]
  },
  {
   "cell_type": "markdown",
   "metadata": {},
   "source": [
    "# Generator Expressions\n",
    "\n",
    "* #### Generator Expressions are generator version of list comprehensions. They look like list comprehensions, but returns a generator back instead of a list."
   ]
  },
  {
   "cell_type": "code",
   "execution_count": null,
   "metadata": {
    "collapsed": false
   },
   "outputs": [],
   "source": [
    "gen_exp = (x*x for x in range(10))\n",
    "gen_exp"
   ]
  },
  {
   "cell_type": "code",
   "execution_count": null,
   "metadata": {
    "collapsed": false
   },
   "outputs": [],
   "source": [
    "sum(gen_exp)"
   ]
  },
  {
   "cell_type": "markdown",
   "metadata": {},
   "source": [
    "# Decorator\n",
    "\n",
    "* #### In Python, functions are first-class objects.\n",
    "* #### Function can be passed as arguments to other functions\n",
    "* #### A new functions can be returned from a function call\n"
   ]
  },
  {
   "cell_type": "code",
   "execution_count": null,
   "metadata": {
    "collapsed": true
   },
   "outputs": [],
   "source": [
    "def f_func(n):\n",
    "    x = 25\n",
    "    return x + n**2"
   ]
  },
  {
   "cell_type": "code",
   "execution_count": null,
   "metadata": {
    "collapsed": false
   },
   "outputs": [],
   "source": [
    "f_func(2)"
   ]
  },
  {
   "cell_type": "code",
   "execution_count": null,
   "metadata": {
    "collapsed": false
   },
   "outputs": [],
   "source": [
    "def g_func(x==0):\n",
    "    def x_func(n):\n",
    "        return x + n**2\n",
    "    return x_func"
   ]
  },
  {
   "cell_type": "code",
   "execution_count": null,
   "metadata": {
    "collapsed": false
   },
   "outputs": [],
   "source": [
    "p_func = g_func()\n",
    "p_func"
   ]
  },
  {
   "cell_type": "code",
   "execution_count": null,
   "metadata": {
    "collapsed": false
   },
   "outputs": [],
   "source": [
    "p_func(5)"
   ]
  },
  {
   "cell_type": "code",
   "execution_count": null,
   "metadata": {
    "collapsed": true
   },
   "outputs": [],
   "source": [
    "q_func = g_func(5)"
   ]
  },
  {
   "cell_type": "code",
   "execution_count": null,
   "metadata": {
    "collapsed": false
   },
   "outputs": [],
   "source": [
    "print q_func(4)\n",
    "print q_func(5)"
   ]
  },
  {
   "cell_type": "code",
   "execution_count": null,
   "metadata": {
    "collapsed": false
   },
   "outputs": [],
   "source": [
    "def exec_time(myfunc):\n",
    "    from datetime import datetime\n",
    "    def run_func(*args,**kwargs):\n",
    "        t1 = datetime.now()\n",
    "        myfunc(*args,**kwargs)\n",
    "        t2 = datetime.now()\n",
    "        print \"elapsed time:\", t2-t1\n",
    "    return run_func"
   ]
  },
  {
   "cell_type": "code",
   "execution_count": null,
   "metadata": {
    "collapsed": false
   },
   "outputs": [],
   "source": [
    "@exec_time\n",
    "def sqr(n):\n",
    "    import time\n",
    "    time.sleep(1)\n",
    "    return n**2"
   ]
  },
  {
   "cell_type": "code",
   "execution_count": null,
   "metadata": {
    "collapsed": false
   },
   "outputs": [],
   "source": [
    "sqr(5)"
   ]
  },
  {
   "cell_type": "markdown",
   "metadata": {},
   "source": [
    "# Unittest\n",
    "\n",
    "* #### The Python unit testing framework\n",
    "* #### sometimes referred to as “PyUnit”"
   ]
  },
  {
   "cell_type": "code",
   "execution_count": null,
   "metadata": {
    "collapsed": true
   },
   "outputs": [],
   "source": [
    "def number_square(n):\n",
    "    if n == 0:\n",
    "        return 0\n",
    "    elif (n > 0):\n",
    "        return n**2\n",
    "    else:\n",
    "        return -1"
   ]
  },
  {
   "cell_type": "code",
   "execution_count": null,
   "metadata": {
    "collapsed": false
   },
   "outputs": [],
   "source": [
    "import unittest\n",
    "\n",
    "class test_number_square(unittest.TestCase):\n",
    "    \n",
    "    def test_zero_input(self):\n",
    "        self.assertEqual(number_square(0),0)\n",
    "    def test_positive_input(self):\n",
    "        self.assertEqual(number_square(5),25)\n",
    "    def test_invalid_input(self):\n",
    "        self.assertEqual(number_square('ddd'),-1)"
   ]
  },
  {
   "cell_type": "code",
   "execution_count": null,
   "metadata": {
    "collapsed": false
   },
   "outputs": [],
   "source": [
    "unittest.main()"
   ]
  },
  {
   "cell_type": "markdown",
   "metadata": {
    "collapsed": true
   },
   "source": [
    "### Exercies"
   ]
  },
  {
   "cell_type": "markdown",
   "metadata": {},
   "source": [
    "#### Exercise 1\n",
    "* Generate a list of packages installed in your anaconda distribution\n",
    "* 'pip freeze' command list all of the packages installed, redirect the output to a file\n",
    "* Anaconda insallation has a directory anaconda2/pkgs\n",
    "* The above directory contains a directory for each package, generate a package list using directory names\n",
    "* Compare both the packages and their versions and find the differences"
   ]
  },
  {
   "cell_type": "markdown",
   "metadata": {},
   "source": [
    "#### Exercise 2\n",
    "* Write a function that returs a boolean if a given number is happy number\n",
    "* Here is more information on what is a happy number\n",
    "\n",
    "A **happy number** is a number defined by the following process: Starting with any **positive integer**, replace the number by the **sum of the squares of its digits**, and repeat the process until the number either equals 1 (where it will stay), or it loops endlessly in a cycle which does not include 1. Those numbers for which this process ends in 1 are happy numbers, while those that do not end in 1 are unhappy numbers"
   ]
  },
  {
   "cell_type": "code",
   "execution_count": null,
   "metadata": {
    "collapsed": true
   },
   "outputs": [],
   "source": []
  }
 ],
 "metadata": {
  "anaconda-cloud": {},
  "kernelspec": {
   "display_name": "Python [conda root]",
   "language": "python",
   "name": "conda-root-py"
  },
  "language_info": {
   "codemirror_mode": {
    "name": "ipython",
    "version": 2
   },
   "file_extension": ".py",
   "mimetype": "text/x-python",
   "name": "python",
   "nbconvert_exporter": "python",
   "pygments_lexer": "ipython2",
   "version": "2.7.12"
  }
 },
 "nbformat": 4,
 "nbformat_minor": 0
}
