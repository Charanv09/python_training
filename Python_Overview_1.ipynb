{
 "cells": [
  {
   "cell_type": "markdown",
   "metadata": {},
   "source": [
    " ## Data Analysis Using [Python](https://www.python.org)"
   ]
  },
  {
   "cell_type": "markdown",
   "metadata": {},
   "source": [
    "![Gudio Van Rossum](gudio_van_rossum.jpg?raw=true)"
   ]
  },
  {
   "cell_type": "markdown",
   "metadata": {},
   "source": [
    "# History of Python\n",
    "\n",
    "* #### *Dec1989* - As a successor of ABC to provide exception handling\n",
    "* #### *Feb1991* - First public release 0.9.0 had classes with inheritance, exception handling, functions and core data types\n",
    "* #### *Jan1994* - Version 1.0 with functional programming\n",
    "* #### *Oct2000* - Version 2.0 brings garbage collectors, Version 2.2 improves types to be fully object oriented\n",
    "* #### *Dec2008* - Version 3.0 reduce feature duplication by removing old ways of doing things "
   ]
  },
  {
   "cell_type": "markdown",
   "metadata": {},
   "source": [
    "# Why Python ?\n",
    "* #### Easy to learn\n",
    "* #### Has efficient high level data structures\n",
    "* #### Elegent Syntax and Dynamic typing\n",
    "* #### Many third party libraries/modules\n",
    "* #### Active community support\n"
   ]
  },
  {
   "cell_type": "markdown",
   "metadata": {},
   "source": [
    "# Application\n",
    "* #### Web and Internet Development\n",
    "* #### Scientific and Numeric\n",
    "* #### Software automation and testing"
   ]
  },
  {
   "cell_type": "markdown",
   "metadata": {},
   "source": [
    "## Installation\n",
    "\n",
    "* #### We will be using Anaconda distributed by [CONTINUUM](https://www.continuum.io/downloads) for this training\n",
    "* #### You can download and install python and jupyter - here are the [instructions](https://github.com/sdonapar/python_training/blob/master/python_Installation_instructions.md)\n",
    "* #### Anaconda is a completely free [Python](https://www.python.org) distribution (including for commercial use and redistribution). It includes more than 400 of the most popular Python packages for science, math, engineering, and data analysis\n",
    "* #### Check the python version installed on our training desktop/laptop\n",
    "* #### Setup the environment variables if not set already"
   ]
  },
  {
   "cell_type": "markdown",
   "metadata": {},
   "source": [
    "## Python Interpreter\n",
    "\n",
    "* The Python interpreter is usually installed as /usr/local/bin/python or /usr/bin/python\n",
    "* On Windows machines, the Python installation is usually placed in C:\\Python27\n",
    "* If you are using Anaconda - it will be usually present in C:\\anaconda2\\bin\n",
    "\n",
    "### REPL - read–eval–print loop\n",
    "\n",
    "```python\n",
    ">>> print(\"Let us start learning python\")\n",
    "Let us start learning python \n",
    ">>>\n",
    "```\n",
    "\n",
    "### Zen of Python\n",
    "\n",
    "```python\n",
    ">>> import this\n",
    ">>>\n",
    "```\n",
    "\n"
   ]
  },
  {
   "cell_type": "markdown",
   "metadata": {},
   "source": [
    "## Introduction to [Jupyter](http://jupyter.org) notebooks\n",
    "\n",
    "* #### Starting jupyter notebook\n",
    "* #### How to get python help\n",
    "* #### Walk thru basic operations\n",
    "* #### Line and Cell [Magic commands](https://damontallen.github.io/IPython-quick-ref-sheets)"
   ]
  },
  {
   "cell_type": "code",
   "execution_count": null,
   "metadata": {
    "collapsed": false
   },
   "outputs": [],
   "source": [
    "# My first program\n",
    "print(\"I am learning python\")"
   ]
  },
  {
   "cell_type": "code",
   "execution_count": null,
   "metadata": {
    "collapsed": false
   },
   "outputs": [],
   "source": [
    "%lsmagic"
   ]
  },
  {
   "cell_type": "code",
   "execution_count": null,
   "metadata": {
    "collapsed": false
   },
   "outputs": [],
   "source": [
    "%run run.py"
   ]
  },
  {
   "cell_type": "code",
   "execution_count": null,
   "metadata": {
    "collapsed": false
   },
   "outputs": [],
   "source": [
    "%timeit [a for a in range(0,100000)]"
   ]
  },
  {
   "cell_type": "markdown",
   "metadata": {},
   "source": [
    "### How to get help ?"
   ]
  },
  {
   "cell_type": "code",
   "execution_count": null,
   "metadata": {
    "collapsed": false
   },
   "outputs": [],
   "source": [
    "%quickref"
   ]
  },
  {
   "cell_type": "code",
   "execution_count": null,
   "metadata": {
    "collapsed": false
   },
   "outputs": [],
   "source": [
    "help(sum)"
   ]
  },
  {
   "cell_type": "code",
   "execution_count": null,
   "metadata": {
    "collapsed": true
   },
   "outputs": [],
   "source": [
    "sum?"
   ]
  },
  {
   "cell_type": "code",
   "execution_count": null,
   "metadata": {
    "collapsed": true
   },
   "outputs": [],
   "source": [
    "#Python is dynamically typed language\n",
    "#Dynamically typed programming languages do type checking at run-time as opposed to Compile-time. \n",
    "iam_integer = 100\n",
    "iam_float = 3.14\n",
    "iam_str = \"Hellow\"\n",
    "iam_bool = True\n",
    "iam_complex = 3+4j"
   ]
  },
  {
   "cell_type": "markdown",
   "metadata": {},
   "source": [
    "* Everything in Python is an object\n",
    "* Everything in Python has a type\n",
    "* **type** and **object** are special objects in python\n"
   ]
  },
  {
   "cell_type": "code",
   "execution_count": null,
   "metadata": {
    "collapsed": false
   },
   "outputs": [],
   "source": [
    "print(type(iam_integer))\n",
    "print(type(iam_float))\n",
    "print(type(iam_str))\n",
    "print(type(iam_bool))\n",
    "print(type(iam_complex))"
   ]
  },
  {
   "cell_type": "markdown",
   "metadata": {},
   "source": [
    "### Intriduction to objects and namespace"
   ]
  },
  {
   "cell_type": "markdown",
   "metadata": {
    "collapsed": false,
    "slideshow": {
     "slide_type": "slide"
    }
   },
   "source": [
    "<img src=\"namespace.jpg\" alt=\"Python Namespace\" height=\"542\" width=\"542\" align=\"left\">"
   ]
  },
  {
   "cell_type": "code",
   "execution_count": null,
   "metadata": {
    "collapsed": false
   },
   "outputs": [],
   "source": [
    "a = 2\n",
    "a = a +1\n",
    "b = 2"
   ]
  },
  {
   "cell_type": "markdown",
   "metadata": {
    "collapsed": true
   },
   "source": [
    "<img src=\"namespace_example.png\" alt=\"namespace\" height=\"550\" width=\"550\" align=\"left\">"
   ]
  },
  {
   "cell_type": "markdown",
   "metadata": {},
   "source": [
    "* Every objects has an identity which is going to be unique\n",
    "* **variable a** in the namespace points to object 2\n",
    "* **variable a** in the namespace points moves to object 3 \n",
    "* new name b is created in the namespace and points to object 2"
   ]
  },
  {
   "cell_type": "code",
   "execution_count": null,
   "metadata": {
    "collapsed": false
   },
   "outputs": [],
   "source": [
    "print(id(a))\n",
    "print(id(b))\n",
    "print(id(2))"
   ]
  },
  {
   "cell_type": "code",
   "execution_count": null,
   "metadata": {
    "collapsed": false
   },
   "outputs": [],
   "source": [
    "# There are many other names in this namespace which are brought in by Jupyter\n",
    "print(dir())"
   ]
  },
  {
   "cell_type": "code",
   "execution_count": null,
   "metadata": {
    "collapsed": true
   },
   "outputs": [],
   "source": [
    "# %load utilities.py\n",
    "#!/usr/bin/env python\n",
    "\n",
    "def my_dir(mylist):\n",
    "    import re\n",
    "    pattern = re.compile('_[0-9a-z]+')\n",
    "    return [x for x in mylist if not pattern.match(x) and \n",
    "            x not in ('In','Out','_','__','___','exit','quit','get_ipython')] "
   ]
  },
  {
   "cell_type": "code",
   "execution_count": null,
   "metadata": {
    "collapsed": false
   },
   "outputs": [],
   "source": [
    "import utilities\n",
    "print(utilities.my_dir(dir()))"
   ]
  },
  {
   "cell_type": "markdown",
   "metadata": {
    "collapsed": true
   },
   "source": [
    "## [Python Library Reference](https://docs.python.org/2/library/index.html)\n",
    "#### [Built-in Functions](https://docs.python.org/2/library/functions.html) - Loaded when python is started\n",
    "#### [Standard Library](https://docs.python.org/2/library/) - These are installed along with standard python installation, ex: sys, os, etc\n",
    "#### [External modules](https://pypi.python.org/pypi) - Can be downloaded from the Python Package Index, ex: numpy, pandas, etc"
   ]
  },
  {
   "cell_type": "markdown",
   "metadata": {},
   "source": [
    "## Numbers"
   ]
  },
  {
   "cell_type": "code",
   "execution_count": null,
   "metadata": {
    "collapsed": false
   },
   "outputs": [],
   "source": [
    "2 + 2"
   ]
  },
  {
   "cell_type": "code",
   "execution_count": null,
   "metadata": {
    "collapsed": false
   },
   "outputs": [],
   "source": [
    "5 * 3"
   ]
  },
  {
   "cell_type": "code",
   "execution_count": null,
   "metadata": {
    "collapsed": false
   },
   "outputs": [],
   "source": [
    "100/21"
   ]
  },
  {
   "cell_type": "code",
   "execution_count": null,
   "metadata": {
    "collapsed": false
   },
   "outputs": [],
   "source": [
    "100/21.0"
   ]
  },
  {
   "cell_type": "code",
   "execution_count": null,
   "metadata": {
    "collapsed": false
   },
   "outputs": [],
   "source": [
    "import math\n",
    "radius = 10 # 10 centimeters\n",
    "area = math.pi * radius**2\n",
    "print(area)"
   ]
  },
  {
   "cell_type": "markdown",
   "metadata": {},
   "source": [
    "## Strings\n",
    "\n",
    "* Strings in python are immutable"
   ]
  },
  {
   "cell_type": "code",
   "execution_count": null,
   "metadata": {
    "collapsed": true
   },
   "outputs": [],
   "source": [
    "str_a = 'This string uses single quotes'\n",
    "\n",
    "str_b = \"This string uses double quotes\"\n",
    "\n",
    "str_c = \"\"\"This is a multi line string\n",
    "This is second line\n",
    "This is third line\n",
    "\"\"\"\n",
    "\n",
    "str_d = \"This doesn't contain escape characters\"\n",
    "str_e = 'There are some \"SPECIAL\" words in this sentence'\n",
    "str_f = 'It is fine to use escape character\\'s some times'\n",
    "\n",
    "# There are some special character \\t, \\n, etc\n",
    "\n",
    "str_g = \"Everything in Python is an object\\nEvery object in Python has type\\nPython is dynamically typed language\""
   ]
  },
  {
   "cell_type": "code",
   "execution_count": null,
   "metadata": {
    "collapsed": false
   },
   "outputs": [],
   "source": [
    "print(str_g)"
   ]
  },
  {
   "cell_type": "markdown",
   "metadata": {},
   "source": [
    "### String methods\n",
    "\n",
    "* Strings can be indexed\n",
    "* startswith, endswith\n",
    "* strip, split, replace, partition\n",
    "* index,count, find\n",
    "* upper, lower\n",
    "* join, format\n",
    "* string slicing\n"
   ]
  },
  {
   "cell_type": "code",
   "execution_count": null,
   "metadata": {
    "collapsed": true
   },
   "outputs": [],
   "source": [
    "my_string = \"Assets under administration : $5.2 trillion, including managed assets : $2.1 trillion\""
   ]
  },
  {
   "cell_type": "code",
   "execution_count": null,
   "metadata": {
    "collapsed": false
   },
   "outputs": [],
   "source": [
    "len(my_string) # returns length of string"
   ]
  },
  {
   "cell_type": "code",
   "execution_count": null,
   "metadata": {
    "collapsed": false
   },
   "outputs": [],
   "source": [
    "my_string.startswith(\"Assets\") # Returns True or False"
   ]
  },
  {
   "cell_type": "code",
   "execution_count": null,
   "metadata": {
    "collapsed": false
   },
   "outputs": [],
   "source": [
    "my_string.endswith(\"Fidelity\") # Returns True or False"
   ]
  },
  {
   "cell_type": "code",
   "execution_count": null,
   "metadata": {
    "collapsed": false
   },
   "outputs": [],
   "source": [
    "\"   This is a test String \".strip() # removes the leading and trailing spaces"
   ]
  },
  {
   "cell_type": "code",
   "execution_count": null,
   "metadata": {
    "collapsed": false
   },
   "outputs": [],
   "source": [
    "\"This line has return line characters at the end\\n\\n\\n\".strip(\"\\n\")"
   ]
  },
  {
   "cell_type": "code",
   "execution_count": null,
   "metadata": {
    "collapsed": false
   },
   "outputs": [],
   "source": [
    "print(my_string.split()) # default delimiter is space"
   ]
  },
  {
   "cell_type": "code",
   "execution_count": null,
   "metadata": {
    "collapsed": false
   },
   "outputs": [],
   "source": [
    "print(my_string.split(\":\")) # passing a delimiter\n",
    "#What is the type of output of split ?\n",
    "# What if there is no delimiter present in my_string ? would split operation fail ?"
   ]
  },
  {
   "cell_type": "code",
   "execution_count": null,
   "metadata": {
    "collapsed": false
   },
   "outputs": [],
   "source": [
    "my_string.find(\"$\") # returns the index first occurance of character $"
   ]
  },
  {
   "cell_type": "code",
   "execution_count": null,
   "metadata": {
    "collapsed": false
   },
   "outputs": [],
   "source": [
    "my_string.count(\"trillion\") # returns the number of occurances of word/character"
   ]
  },
  {
   "cell_type": "code",
   "execution_count": null,
   "metadata": {
    "collapsed": false
   },
   "outputs": [],
   "source": [
    "my_string.count(\"Fidelity\") # returns 0 if the substring is not found"
   ]
  },
  {
   "cell_type": "code",
   "execution_count": null,
   "metadata": {
    "collapsed": false
   },
   "outputs": [],
   "source": [
    "my_string.upper() # conversts to uppercase"
   ]
  },
  {
   "cell_type": "code",
   "execution_count": null,
   "metadata": {
    "collapsed": false
   },
   "outputs": [],
   "source": [
    "my_string.index(\"trillion\") # returns the starting index position of the sting"
   ]
  },
  {
   "cell_type": "code",
   "execution_count": null,
   "metadata": {
    "collapsed": false
   },
   "outputs": [],
   "source": [
    "# string slicing\n",
    "print(my_string[0:15])  # returns the character starting from zero till 15 ( excluding 15)\n",
    "print(my_string[10:25]) # returns the character starting from 10 till 25 ( excluding 25)\n",
    "print(my_string[25:])   # starting with 25 till the end of the string\n",
    "print(my_string[:25])   # starting from the begining till 25 ( excluding 25)\n",
    "print(my_string[:])     # complete string"
   ]
  },
  {
   "cell_type": "code",
   "execution_count": null,
   "metadata": {
    "collapsed": false
   },
   "outputs": [],
   "source": [
    "# String concatenation\n",
    "\n",
    "my_statement = \"This\" + \" \" + \"is\" + \" a \" + \"test statemet\"\n",
    "my_statement"
   ]
  },
  {
   "cell_type": "code",
   "execution_count": null,
   "metadata": {
    "collapsed": false
   },
   "outputs": [],
   "source": [
    "print(\"*\"*3 + \" Title \" + \"*\"*3)"
   ]
  },
  {
   "cell_type": "code",
   "execution_count": null,
   "metadata": {
    "collapsed": false
   },
   "outputs": [],
   "source": [
    "# what happens if string \"Title\" is divided by 3 ?\n",
    "# what happens if string integer 5 is added to string \"Title\" ?"
   ]
  },
  {
   "cell_type": "markdown",
   "metadata": {},
   "source": [
    "## Exercises"
   ]
  },
  {
   "cell_type": "markdown",
   "metadata": {},
   "source": [
    "Explore string \"Monty Python\""
   ]
  },
  {
   "cell_type": "markdown",
   "metadata": {},
   "source": [
    "<img src=\"fig_list_index.png\" alt=\"namespace\" height=\"550\" width=\"550\" align=\"left\">"
   ]
  },
  {
   "cell_type": "markdown",
   "metadata": {},
   "source": [
    "\n",
    "* Find the lenght of string \"String in Python is an array of characters\"\n",
    "* How many occurance of \"people\" word are there in below sentence\n",
    "\n",
    "Fidelity's goal is to make financial expertise broadly accessible and effective in helping people live the lives they want. With assets under administration of \\$5.2 trillion, including managed assets of \\$2.1 trillion as of April 30, 2015, we focus on meeting the unique needs of a diverse set of customers: helping more than 24 million people invest their own life savings, nearly 20,000 businesses manage employee benefit programs, as well as providing nearly 10,000 advisory firms with technology solutions to invest their own clients' money.\n",
    "\n",
    "* Extract substring \"assets under administration of \\$5.2 trillion\"  from above sentence using indicies\n",
    "* Remove \".\" from the above sentence and split the sentence using \",\" as the delimiter\n",
    "\n"
   ]
  },
  {
   "cell_type": "markdown",
   "metadata": {},
   "source": [
    "## Lists\n",
    "\n",
    "* List is the  most versatile compound data type, which can be written as a list of comma-separated values (items) between square brackets\n",
    "* Lists in python are mutable\n",
    "* Items of list can be any python object\n",
    "* [List methods](https://docs.python.org/2/tutorial/datastructures.html#more-on-lists): append, extend, insert, remove, pop, index, count, sort, reverse\n",
    "* in statement to check the presence of an element"
   ]
  },
  {
   "cell_type": "code",
   "execution_count": null,
   "metadata": {
    "collapsed": true
   },
   "outputs": [],
   "source": [
    "# list can have different types of objects\n",
    "my_list = ['Python','java',25,32,43.55,'C++']"
   ]
  },
  {
   "cell_type": "code",
   "execution_count": null,
   "metadata": {
    "collapsed": false
   },
   "outputs": [],
   "source": [
    "len(my_list) # returns lenght of the list"
   ]
  },
  {
   "cell_type": "code",
   "execution_count": null,
   "metadata": {
    "collapsed": false
   },
   "outputs": [],
   "source": [
    "my_list[1] # returns second element of list"
   ]
  },
  {
   "cell_type": "code",
   "execution_count": null,
   "metadata": {
    "collapsed": true
   },
   "outputs": [],
   "source": [
    "my_list[1] = 'Java' # list are mutable"
   ]
  },
  {
   "cell_type": "code",
   "execution_count": null,
   "metadata": {
    "collapsed": false
   },
   "outputs": [],
   "source": [
    "my_list"
   ]
  },
  {
   "cell_type": "code",
   "execution_count": null,
   "metadata": {
    "collapsed": false
   },
   "outputs": [],
   "source": [
    "new_list = my_list[1:4] # list slice"
   ]
  },
  {
   "cell_type": "code",
   "execution_count": null,
   "metadata": {
    "collapsed": false
   },
   "outputs": [],
   "source": [
    "new_list"
   ]
  },
  {
   "cell_type": "code",
   "execution_count": null,
   "metadata": {
    "collapsed": true
   },
   "outputs": [],
   "source": [
    "my_list.append(\"DotNet\") # appends string at the "
   ]
  },
  {
   "cell_type": "code",
   "execution_count": null,
   "metadata": {
    "collapsed": false
   },
   "outputs": [],
   "source": [
    "my_list"
   ]
  },
  {
   "cell_type": "code",
   "execution_count": null,
   "metadata": {
    "collapsed": true
   },
   "outputs": [],
   "source": [
    "my_list.extend(['R','SPSS','MATLAB']) # extending a list using another list"
   ]
  },
  {
   "cell_type": "code",
   "execution_count": null,
   "metadata": {
    "collapsed": false
   },
   "outputs": [],
   "source": [
    "my_list"
   ]
  },
  {
   "cell_type": "code",
   "execution_count": null,
   "metadata": {
    "collapsed": true
   },
   "outputs": [],
   "source": [
    "# list can contain duplicate items\n",
    "my_list.append(\"Python\")"
   ]
  },
  {
   "cell_type": "code",
   "execution_count": null,
   "metadata": {
    "collapsed": false
   },
   "outputs": [],
   "source": [
    "print(my_list)"
   ]
  },
  {
   "cell_type": "code",
   "execution_count": null,
   "metadata": {
    "collapsed": false
   },
   "outputs": [],
   "source": [
    "my_list.count(\"Python\")"
   ]
  },
  {
   "cell_type": "code",
   "execution_count": null,
   "metadata": {
    "collapsed": true
   },
   "outputs": [],
   "source": [
    "# this modifies the original list, sort is in place\n",
    "my_list.sort()"
   ]
  },
  {
   "cell_type": "code",
   "execution_count": null,
   "metadata": {
    "collapsed": false
   },
   "outputs": [],
   "source": [
    "print(my_list)"
   ]
  },
  {
   "cell_type": "code",
   "execution_count": null,
   "metadata": {
    "collapsed": false
   },
   "outputs": [],
   "source": [
    "# Please do not run this multiple times, pop removes an element each time\n",
    "last_element = my_list.pop()\n",
    "last_element"
   ]
  },
  {
   "cell_type": "code",
   "execution_count": null,
   "metadata": {
    "collapsed": false
   },
   "outputs": [],
   "source": [
    "my_list.index(\"Java\")"
   ]
  },
  {
   "cell_type": "code",
   "execution_count": null,
   "metadata": {
    "collapsed": false
   },
   "outputs": [],
   "source": [
    "'Python' in my_list # checking if object is present inside the list"
   ]
  },
  {
   "cell_type": "code",
   "execution_count": null,
   "metadata": {
    "collapsed": true
   },
   "outputs": [],
   "source": [
    "# this modifies the original list, in place reverese\n",
    "my_list.reverse()"
   ]
  },
  {
   "cell_type": "code",
   "execution_count": null,
   "metadata": {
    "collapsed": false
   },
   "outputs": [],
   "source": [
    "print(my_list)"
   ]
  },
  {
   "cell_type": "code",
   "execution_count": null,
   "metadata": {
    "collapsed": false
   },
   "outputs": [],
   "source": [
    "# inserting at 1st position ( Please note the index starts at 0)\n",
    "my_list.insert(1,'SPSS')"
   ]
  },
  {
   "cell_type": "code",
   "execution_count": null,
   "metadata": {
    "collapsed": false
   },
   "outputs": [],
   "source": [
    "print(my_list)"
   ]
  },
  {
   "cell_type": "code",
   "execution_count": null,
   "metadata": {
    "collapsed": false
   },
   "outputs": [],
   "source": [
    "# List of Lists\n",
    "list_of_lists = [['Python','C++','Java'],[2.7,4.2,8.0],['Object',2.5],'Main']\n",
    "list_of_lists"
   ]
  },
  {
   "cell_type": "code",
   "execution_count": null,
   "metadata": {
    "collapsed": false
   },
   "outputs": [],
   "source": [
    "list_of_lists[0]"
   ]
  },
  {
   "cell_type": "code",
   "execution_count": null,
   "metadata": {
    "collapsed": false
   },
   "outputs": [],
   "source": [
    "# Accessing list\n",
    "for item in my_list: # iterates from the first element to last element\n",
    "    print \"Programming Language : \", item"
   ]
  },
  {
   "cell_type": "markdown",
   "metadata": {},
   "source": [
    "## Tuples\n",
    "\n",
    "* Tuples are very similar to Lists except that they are not mutable\n",
    "* A tuple consists of a number of values separated by commas enclosed in round brackets\n",
    "* Tuples can contain mutable objects like lists"
   ]
  },
  {
   "cell_type": "code",
   "execution_count": null,
   "metadata": {
    "collapsed": true
   },
   "outputs": [],
   "source": [
    "my_tuple = 'Equity', # observe the comma at the end"
   ]
  },
  {
   "cell_type": "code",
   "execution_count": null,
   "metadata": {
    "collapsed": false
   },
   "outputs": [],
   "source": [
    "my_tuple"
   ]
  },
  {
   "cell_type": "code",
   "execution_count": null,
   "metadata": {
    "collapsed": true
   },
   "outputs": [],
   "source": [
    "another_tuple = ('Equity Fund','1 Year',13.5)"
   ]
  },
  {
   "cell_type": "code",
   "execution_count": null,
   "metadata": {
    "collapsed": false
   },
   "outputs": [],
   "source": [
    "another_tuple[1]"
   ]
  },
  {
   "cell_type": "code",
   "execution_count": null,
   "metadata": {
    "collapsed": false
   },
   "outputs": [],
   "source": [
    "sorted(another_tuple) # Pelase see the type of the output"
   ]
  },
  {
   "cell_type": "code",
   "execution_count": null,
   "metadata": {
    "collapsed": false
   },
   "outputs": [],
   "source": [
    "len(another_tuple)"
   ]
  },
  {
   "cell_type": "code",
   "execution_count": null,
   "metadata": {
    "collapsed": true
   },
   "outputs": [],
   "source": [
    "tuple_list = ([1,2,3],['a','b','c'],'Another String')"
   ]
  },
  {
   "cell_type": "code",
   "execution_count": null,
   "metadata": {
    "collapsed": true
   },
   "outputs": [],
   "source": [
    "tuple_list[0].append(4)"
   ]
  },
  {
   "cell_type": "code",
   "execution_count": null,
   "metadata": {
    "collapsed": false
   },
   "outputs": [],
   "source": [
    "tuple_list"
   ]
  },
  {
   "cell_type": "markdown",
   "metadata": {},
   "source": [
    "## Sets\n",
    "\n",
    "* A set is an unordered collection with no duplicate elements\n",
    "* Basic uses include membership testing and eliminating duplicate entries\n",
    "* Support mathematical operations like union, intersection, difference, and symmetric difference."
   ]
  },
  {
   "cell_type": "code",
   "execution_count": null,
   "metadata": {
    "collapsed": true
   },
   "outputs": [],
   "source": [
    "instrument_types = ['Equity','Fixed Income','Equity','Money Market']\n",
    "instrument_types_set = set(instrument_types)"
   ]
  },
  {
   "cell_type": "code",
   "execution_count": null,
   "metadata": {
    "collapsed": false
   },
   "outputs": [],
   "source": [
    "instrument_types_set"
   ]
  },
  {
   "cell_type": "code",
   "execution_count": null,
   "metadata": {
    "collapsed": true
   },
   "outputs": [],
   "source": [
    "another_set = {'Fixed Deposits','Equity'}"
   ]
  },
  {
   "cell_type": "code",
   "execution_count": null,
   "metadata": {
    "collapsed": false
   },
   "outputs": [],
   "source": [
    "instrument_types_set.union(another_set)"
   ]
  },
  {
   "cell_type": "code",
   "execution_count": null,
   "metadata": {
    "collapsed": false
   },
   "outputs": [],
   "source": [
    "instrument_types_set.intersection(another_set)"
   ]
  },
  {
   "cell_type": "code",
   "execution_count": null,
   "metadata": {
    "collapsed": false
   },
   "outputs": [],
   "source": [
    "instrument_types_set - another_set"
   ]
  },
  {
   "cell_type": "code",
   "execution_count": null,
   "metadata": {
    "collapsed": false
   },
   "outputs": [],
   "source": [
    "instrument_types_set ^ another_set #items in instrument_types_set or another_set but not both"
   ]
  },
  {
   "cell_type": "markdown",
   "metadata": {},
   "source": [
    "## Dictionaries\n",
    "\n",
    "* Associative arrays or Hash tables\n",
    "* An unordered set of key: value pairs\n",
    "* Key should by any immutable type"
   ]
  },
  {
   "cell_type": "code",
   "execution_count": null,
   "metadata": {
    "collapsed": true
   },
   "outputs": [],
   "source": [
    "my_dict = {'name':'Python','version':2.7,'objects':['List','Tuple','Set']}"
   ]
  },
  {
   "cell_type": "code",
   "execution_count": null,
   "metadata": {
    "collapsed": false
   },
   "outputs": [],
   "source": [
    "my_dict_list = dict([('x',20),('y',40)])"
   ]
  },
  {
   "cell_type": "code",
   "execution_count": null,
   "metadata": {
    "collapsed": false
   },
   "outputs": [],
   "source": [
    "my_dict_list"
   ]
  },
  {
   "cell_type": "code",
   "execution_count": null,
   "metadata": {
    "collapsed": true
   },
   "outputs": [],
   "source": [
    "person = dict(name='Mark',age=25,language='English')"
   ]
  },
  {
   "cell_type": "code",
   "execution_count": null,
   "metadata": {
    "collapsed": false
   },
   "outputs": [],
   "source": [
    "person"
   ]
  },
  {
   "cell_type": "code",
   "execution_count": null,
   "metadata": {
    "collapsed": false
   },
   "outputs": [],
   "source": [
    "my_dict['name']"
   ]
  },
  {
   "cell_type": "markdown",
   "metadata": {},
   "source": [
    "## Exercises\n",
    "\n",
    "* Explore [**range**](https://docs.python.org/2/tutorial/controlflow.html#the-range-function) function\n",
    "* Explore [**del**](https://docs.python.org/2/tutorial/datastructures.html#the-del-statement) statement\n",
    "* Explore [**format**](https://docs.python.org/2/tutorial/inputoutput.html#fancier-output-formatting) function"
   ]
  },
  {
   "cell_type": "code",
   "execution_count": null,
   "metadata": {
    "collapsed": true
   },
   "outputs": [],
   "source": [
    "# Exercise - 1\n",
    "# There are 5 items in a buffet  - Roti , mushroom curry, Salads, Palak Panner, Veg Palao\n",
    "# Create a list in the orde these items are arranged for buffet\n",
    "# Iterate over the list and print the item sequence numer and name (hint : explore enumarte function)"
   ]
  },
  {
   "cell_type": "code",
   "execution_count": null,
   "metadata": {
    "collapsed": true
   },
   "outputs": [],
   "source": [
    "# Exercise - 2\n",
    "a = [1,2,4,3,5]\n",
    "# re-arrage the oder of elments  to 1,2,3,4,5 using del bultin function and insert list method"
   ]
  }
 ],
 "metadata": {
  "anaconda-cloud": {},
  "celltoolbar": "Raw Cell Format",
  "kernelspec": {
   "display_name": "Python [conda root]",
   "language": "python",
   "name": "conda-root-py"
  },
  "language_info": {
   "codemirror_mode": {
    "name": "ipython",
    "version": 2
   },
   "file_extension": ".py",
   "mimetype": "text/x-python",
   "name": "python",
   "nbconvert_exporter": "python",
   "pygments_lexer": "ipython2",
   "version": "2.7.12"
  }
 },
 "nbformat": 4,
 "nbformat_minor": 0
}
